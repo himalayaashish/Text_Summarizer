{
  "nbformat": 4,
  "nbformat_minor": 0,
  "metadata": {
    "colab": {
      "provenance": []
    },
    "kernelspec": {
      "name": "python3",
      "display_name": "Python 3"
    },
    "language_info": {
      "name": "python"
    }
  },
  "cells": [
    {
      "cell_type": "code",
      "execution_count": null,
      "metadata": {
        "colab": {
          "base_uri": "https://localhost:8080/",
          "height": 53
        },
        "id": "At655AD9RWV9",
        "outputId": "a905fc0d-5577-4377-a02b-b5d43e475378"
      },
      "outputs": [
        {
          "output_type": "execute_result",
          "data": {
            "text/plain": [
              "\"Iran is considering enriching uranium at levels that would violate the 2015 nuclear agreement. Donald Trump says it would be a big mistake for Iran to enrich uranium, but he's not considering military action.\""
            ],
            "application/vnd.google.colaboratory.intrinsic+json": {
              "type": "string"
            }
          },
          "metadata": {},
          "execution_count": 2
        }
      ],
      "source": [
        "\n",
        "from transformers import pipeline\n",
        "\n",
        "summarizer = pipeline(\"summarization\", model=\"lidiya/bart-large-xsum-samsum\")\n",
        "conversation = '''\n",
        "TIME: I wanted to begin in the news. Iran overnight said it was considering enriching uranium at\n",
        "      levels that would violate the 2015 nuclear agreement.\n",
        "      You’ve been very clear that you won’t let Iran get a nuclear weapon.\n",
        "\n",
        "TRUMP: Yeah, I think they’d be making a big mistake doing that.\n",
        "\n",
        "TIME: Are you considering more military action?\n",
        "\n",
        "TRUMP: I wouldn’t say that. I can’t say that at all. It would be inappropriate. But they would be making a big mistake if they enriched.\n",
        "\n",
        "TIME: Are they calling your bluff on this or how do you see it?\n",
        "\n",
        "TRUMP: Time will tell. Only time will tell.\n",
        "\n",
        "TIME: I mean in your campaign, you promised to get the U.S. out of unnecessary foreign wars. With your —\n",
        "\n",
        "TRUMP: That’s true. Well I have.\n",
        "'''\n",
        "summarizer(conversation)[0]['summary_text']"
      ]
    },
    {
      "cell_type": "code",
      "source": [],
      "metadata": {
        "id": "1Z7vVFHBRX9J"
      },
      "execution_count": null,
      "outputs": []
    }
  ]
}